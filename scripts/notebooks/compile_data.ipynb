{
 "cells": [
  {
   "cell_type": "markdown",
   "metadata": {},
   "source": [
    "# Compiling and Preparing Data"
   ]
  },
  {
   "cell_type": "markdown",
   "metadata": {},
   "source": [
    "##### Data was compiled from http://profiles.doe.mass.edu/state_report. All data is district level and from the 2017/2018 school-year. Each data file was downloaded separately and stored into a local folder. Data definitions can be found on the about the data section of the MA DOE website at http://profiles.doe.mass.edu/help/data.aspx."
   ]
  },
  {
   "cell_type": "code",
   "execution_count": 8,
   "metadata": {},
   "outputs": [],
   "source": [
    "import pandas as pd\n",
    "import numpy as np\n",
    "from functools import reduce\n",
    "import os\n",
    "import scipy.stats as stats\n",
    "from sklearn import linear_model\n",
    "import matplotlib.pyplot as plt\n",
    "import seaborn as sns\n",
    "import hvplot.pandas\n",
    "from pingouin import pairwise_tukey\n",
    "import warnings"
   ]
  },
  {
   "cell_type": "code",
   "execution_count": 9,
   "metadata": {},
   "outputs": [],
   "source": [
    "os.chdir('/Users/zacharycollester/Documents/ma_public_schools/data/df_data')"
   ]
  },
  {
   "cell_type": "markdown",
   "metadata": {},
   "source": [
    "I created a function that loops through .csv files in a particular folder, appends each dataframe of data, reduces all data frames on a common variable (\"District Name\"), adds a dummy integer (99999) for all null values, and removes duplicated columns."
   ]
  },
  {
   "cell_type": "code",
   "execution_count": 10,
   "metadata": {},
   "outputs": [],
   "source": [
    "def compile_data(path):\n",
    "    dflist = list()\n",
    "    # generating list of files from data directory path\n",
    "    pathlist = list()\n",
    "    for filename in os.listdir(path):\n",
    "        if filename.endswith(\".csv\"):\n",
    "            pathlist.append(filename)\n",
    "    pathlist.sort()\n",
    "    # looping through data files, appending each df in a list\n",
    "    for i in range(len(pathlist)):\n",
    "        df = pd.read_csv(pathlist[i], sep=None, thousands = ',')\n",
    "        df.columns = df.iloc[0]\n",
    "        df = df.drop(df.index[0])\n",
    "        df = df.drop(['District Code'], axis=1)\n",
    "        dflist.append(df)\n",
    "    # concatenating dfs into one large df\n",
    "    data = reduce(lambda left,right: pd.merge(left,right,how='outer',on='District Name'), dflist)\n",
    "    # removing nan columns and adding \"99999\" to missing cells\n",
    "    data = data.loc[:, data.columns.notnull()]\n",
    "    data = data.fillna(99999)\n",
    "    data = data.loc[:,~data.columns.duplicated()]\n",
    "    return data\n"
   ]
  },
  {
   "cell_type": "markdown",
   "metadata": {},
   "source": [
    "Here, I am calling the function and storing the returned value in a variable called `data`. There are 408 districts and 286 variables in the dataset. "
   ]
  },
  {
   "cell_type": "code",
   "execution_count": 11,
   "metadata": {},
   "outputs": [],
   "source": [
    "data_directory = '/Users/zacharycollester/Documents/ma_public_schools/data/df_data/'\n",
    "warnings.filterwarnings('ignore')\n",
    "data = compile_data(path=data_directory)"
   ]
  },
  {
   "cell_type": "markdown",
   "metadata": {},
   "source": [
    "Lastly, I am converting the dtypes of the dataframe. Specifically, I created a loop that converts all integers to `ints` and all numbers with a decimal point to `floats`. All columns in the dataframe (aside from `District Name`) are numeric.  "
   ]
  },
  {
   "cell_type": "code",
   "execution_count": 12,
   "metadata": {},
   "outputs": [],
   "source": [
    "data = data.astype(str)\n",
    "float_columns = []\n",
    "int_columns = []\n",
    "for columns in data:\n",
    "    if columns != \"District Name\":\n",
    "        for value in data[columns]:\n",
    "            if '.' in value:\n",
    "                data[columns] = data[columns].astype(float)\n",
    "                float_columns.append(columns)\n",
    "                break\n",
    "        if columns not in float_columns:\n",
    "            int_columns.append(columns)\n",
    "            data[columns] = data[columns].astype(int)"
   ]
  }
 ],
 "metadata": {
  "kernelspec": {
   "display_name": "publicschool",
   "language": "python",
   "name": "publicschool"
  },
  "language_info": {
   "codemirror_mode": {
    "name": "ipython",
    "version": 3
   },
   "file_extension": ".py",
   "mimetype": "text/x-python",
   "name": "python",
   "nbconvert_exporter": "python",
   "pygments_lexer": "ipython3",
   "version": "3.7.8"
  }
 },
 "nbformat": 4,
 "nbformat_minor": 2
}
